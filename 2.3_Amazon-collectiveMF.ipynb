{
 "cells": [
  {
   "cell_type": "code",
   "execution_count": 1,
   "metadata": {},
   "outputs": [],
   "source": [
    "from tqdm import tqdm\n",
    "from sklearn.decomposition import NMF\n",
    "import pandas as pd\n",
    "from scipy import sparse\n",
    "import numpy as np\n",
    "import implicit\n",
    "\n",
    "# read data\n",
    "ratings = pd.read_feather('data/amazon_review_ratings.feather')\n",
    "\n",
    "# indexing ids\n",
    "# userid\n",
    "userid_unique = pd.Series(ratings[\"userId\"].unique())\n",
    "index_userid_dict = userid_unique.to_dict()\n",
    "# inverse\n",
    "userid_index_dict = dict(map(reversed, index_userid_dict.items()))\n",
    "\n",
    "# itemid\n",
    "itemid_unique = pd.Series(ratings[\"itemId\"].unique())\n",
    "index_itemid_dict = itemid_unique.to_dict()\n",
    "# inverse\n",
    "itemid_index_dict = dict(map(reversed, index_itemid_dict.items()))\n",
    "\n",
    "ratings[\"userId_reindex\"] = ratings[\"userId\"].map(userid_index_dict)\n",
    "ratings[\"itemid_reindex\"] = ratings[\"itemId\"].map(itemid_index_dict)\n",
    "\n",
    "# reindexしたidを使って、アイテムとジャンルの対応が取れるdictを作る\n",
    "itemid_genres_dict = ratings[['itemid_reindex', 'category']].set_index('itemid_reindex')['category'].to_dict()"
   ]
  },
  {
   "cell_type": "code",
   "execution_count": 2,
   "metadata": {},
   "outputs": [],
   "source": [
    "import cloudpickle\n",
    "X_train = cloudpickle.load(open(\"output/Amazon-X_train.pkl\",\"rb\"))\n",
    "X_test = cloudpickle.load(open(\"output/Amazon-X_test.pkl\",\"rb\"))\n",
    "test_movies_and_TVs_pos_items_dict = cloudpickle.load(open('output/test_movies_and_TVs_pos_items_dict.pkl', 'rb'))"
   ]
  },
  {
   "cell_type": "code",
   "execution_count": 3,
   "metadata": {},
   "outputs": [],
   "source": [
    "# aggregateのtrainをbookとmoviesに分離する\n",
    "# bookの列\n",
    "book_columns = [v for v in range(X_train.shape[1]) if 'book' in itemid_genres_dict[v]]\n",
    "# moviesの列\n",
    "movies_columns = [v for v in range(X_train.shape[1]) if 'movies_and_TVs' in itemid_genres_dict[v]]\n",
    "\n",
    "# 選んだカラムに応じてとってくる\n",
    "book_train = X_train[:, book_columns]\n",
    "movies_train = X_train[:, movies_columns]\n",
    "\n",
    "# moviesのみ、アイテムidのconcatとの対応関係が必要なので辞書として持っておく\n",
    "movies_concat_itemid_dict = {}\n",
    "count = 0\n",
    "for v in range(X_train.shape[1]):\n",
    "    if 'movies_and_TVs' in itemid_genres_dict[v]:\n",
    "        movies_concat_itemid_dict[v] = count\n",
    "        count += 1"
   ]
  },
  {
   "cell_type": "code",
   "execution_count": 4,
   "metadata": {},
   "outputs": [],
   "source": [
    "# アイテムidのconcatとの対応関係が必要なので辞書として持っておく\n",
    "book_concat_itemid_dict = {}\n",
    "count = 0\n",
    "for v in range(X_train.shape[1]):\n",
    "    if 'book' in itemid_genres_dict[v]:\n",
    "        book_concat_itemid_dict[v] = count\n",
    "        count += 1\n",
    "# inverse\n",
    "inverse_book_concat_itemid_dict = dict(map(reversed, book_concat_itemid_dict.items()))\n",
    "\n",
    "movies_concat_itemid_dict = {}\n",
    "count = 0\n",
    "for v in range(X_train.shape[1]):\n",
    "    if 'movies_and_TVs' in itemid_genres_dict[v]:\n",
    "        movies_concat_itemid_dict[v] = count\n",
    "        count += 1\n",
    "# inverse\n",
    "inverse_movies_concat_itemid_dict = dict(map(reversed, movies_concat_itemid_dict.items()))"
   ]
  },
  {
   "cell_type": "code",
   "execution_count": 5,
   "metadata": {},
   "outputs": [],
   "source": [
    "# それぞれにアクションしていないユーザを削る\n",
    "# 全ユーザと、削ったあとでの対応関係を辞書として持っておく\n",
    "book_train_selected = book_train[book_train.getnnz(1)>0]\n",
    "movies_train_selected = movies_train[movies_train.getnnz(1)>0]\n",
    "\n",
    "book_train_action_users = {}\n",
    "book_users = book_train.getnnz(1)>0\n",
    "count = 0\n",
    "for i in range(book_train.shape[0]):\n",
    "    if book_users[i]:\n",
    "        book_train_action_users[i] = count\n",
    "        count += 1\n",
    "\n",
    "# inverse\n",
    "inverse_book_train_action_users = dict(map(reversed, book_train_action_users.items()))\n",
    "\n",
    "movies_train_action_users = {}\n",
    "movies_users = movies_train.getnnz(1)>0\n",
    "count = 0\n",
    "for i in range(movies_train.shape[0]):\n",
    "    if movies_users[i]:\n",
    "        movies_train_action_users[i] = count\n",
    "        count += 1\n",
    "\n",
    "# inverse\n",
    "inverse_movies_train_action_users = dict(map(reversed, movies_train_action_users.items()))"
   ]
  },
  {
   "cell_type": "code",
   "execution_count": 6,
   "metadata": {},
   "outputs": [],
   "source": [
    "# bookだけでALSをまず行う\n",
    "# mediateでの結果をそのまま持ってくる\n",
    "import cloudpickle\n",
    "book_ALS = cloudpickle.load(open('output/book_ALS.pkl', 'rb'))"
   ]
  },
  {
   "cell_type": "code",
   "execution_count": 7,
   "metadata": {},
   "outputs": [],
   "source": [
    "# side informationとしてaction_NMFで得られたベクトルを使う\n",
    "user_attributes = pd.DataFrame(book_ALS.user_factors)\n",
    "user_attributes['UserId'] = user_attributes.index\n",
    "# useridをconcatの次元に戻す\n",
    "user_attributes['UserId'] = user_attributes['UserId'].map(inverse_book_train_action_users)\n",
    "\n",
    "item_attributes = pd.DataFrame(book_ALS.item_factors)\n",
    "item_attributes['ItemId'] = item_attributes.index\n",
    "# itemidをconcatの次元に戻す\n",
    "item_attributes['ItemId'] = item_attributes['ItemId'].map(inverse_book_concat_itemid_dict)"
   ]
  },
  {
   "cell_type": "code",
   "execution_count": 8,
   "metadata": {
    "scrolled": true
   },
   "outputs": [
    {
     "name": "stderr",
     "output_type": "stream",
     "text": [
      "100%|██████████| 690240/690240 [03:36<00:00, 3187.44it/s]\n"
     ]
    }
   ],
   "source": [
    "# X_trainから縦持ちに復元する(X_trainが既に横持ちなので)\n",
    "userid_stacked = []\n",
    "itemid_stacked = []\n",
    "ratings_stacked = []\n",
    "\n",
    "for i in tqdm(range(X_train.shape[0])):\n",
    "    ratings = X_train[i, :].data\n",
    "    item_idx = X_train[i, :].indices\n",
    "    for idx, v in enumerate(item_idx):\n",
    "        if 'movies' in itemid_genres_dict[v]:\n",
    "            userid_stacked.append(i)\n",
    "            itemid_stacked.append(v)\n",
    "            ratings_stacked.append(ratings[idx])\n",
    "\n",
    "movies_ratings_stacked = pd.DataFrame()\n",
    "movies_ratings_stacked['UserId'] = userid_stacked\n",
    "movies_ratings_stacked['ItemId'] = itemid_stacked\n",
    "movies_ratings_stacked['Rating'] = ratings_stacked"
   ]
  },
  {
   "cell_type": "code",
   "execution_count": 9,
   "metadata": {
    "scrolled": true
   },
   "outputs": [
    {
     "name": "stderr",
     "output_type": "stream",
     "text": [
      "/home/fufufukakaka/.pyenv/versions/anaconda3-5.3.1/lib/python3.7/site-packages/tensorflow/python/framework/dtypes.py:516: FutureWarning: Passing (type, 1) or '1type' as a synonym of type is deprecated; in a future version of numpy, it will be understood as (type, (1,)) / '(1,)type'.\n",
      "  _np_qint8 = np.dtype([(\"qint8\", np.int8, 1)])\n",
      "/home/fufufukakaka/.pyenv/versions/anaconda3-5.3.1/lib/python3.7/site-packages/tensorflow/python/framework/dtypes.py:517: FutureWarning: Passing (type, 1) or '1type' as a synonym of type is deprecated; in a future version of numpy, it will be understood as (type, (1,)) / '(1,)type'.\n",
      "  _np_quint8 = np.dtype([(\"quint8\", np.uint8, 1)])\n",
      "/home/fufufukakaka/.pyenv/versions/anaconda3-5.3.1/lib/python3.7/site-packages/tensorflow/python/framework/dtypes.py:518: FutureWarning: Passing (type, 1) or '1type' as a synonym of type is deprecated; in a future version of numpy, it will be understood as (type, (1,)) / '(1,)type'.\n",
      "  _np_qint16 = np.dtype([(\"qint16\", np.int16, 1)])\n",
      "/home/fufufukakaka/.pyenv/versions/anaconda3-5.3.1/lib/python3.7/site-packages/tensorflow/python/framework/dtypes.py:519: FutureWarning: Passing (type, 1) or '1type' as a synonym of type is deprecated; in a future version of numpy, it will be understood as (type, (1,)) / '(1,)type'.\n",
      "  _np_quint16 = np.dtype([(\"quint16\", np.uint16, 1)])\n",
      "/home/fufufukakaka/.pyenv/versions/anaconda3-5.3.1/lib/python3.7/site-packages/tensorflow/python/framework/dtypes.py:520: FutureWarning: Passing (type, 1) or '1type' as a synonym of type is deprecated; in a future version of numpy, it will be understood as (type, (1,)) / '(1,)type'.\n",
      "  _np_qint32 = np.dtype([(\"qint32\", np.int32, 1)])\n",
      "/home/fufufukakaka/.pyenv/versions/anaconda3-5.3.1/lib/python3.7/site-packages/tensorflow/python/framework/dtypes.py:525: FutureWarning: Passing (type, 1) or '1type' as a synonym of type is deprecated; in a future version of numpy, it will be understood as (type, (1,)) / '(1,)type'.\n",
      "  np_resource = np.dtype([(\"resource\", np.ubyte, 1)])\n",
      "/home/fufufukakaka/.pyenv/versions/anaconda3-5.3.1/lib/python3.7/site-packages/tensorboard/compat/tensorflow_stub/dtypes.py:541: FutureWarning: Passing (type, 1) or '1type' as a synonym of type is deprecated; in a future version of numpy, it will be understood as (type, (1,)) / '(1,)type'.\n",
      "  _np_qint8 = np.dtype([(\"qint8\", np.int8, 1)])\n",
      "/home/fufufukakaka/.pyenv/versions/anaconda3-5.3.1/lib/python3.7/site-packages/tensorboard/compat/tensorflow_stub/dtypes.py:542: FutureWarning: Passing (type, 1) or '1type' as a synonym of type is deprecated; in a future version of numpy, it will be understood as (type, (1,)) / '(1,)type'.\n",
      "  _np_quint8 = np.dtype([(\"quint8\", np.uint8, 1)])\n",
      "/home/fufufukakaka/.pyenv/versions/anaconda3-5.3.1/lib/python3.7/site-packages/tensorboard/compat/tensorflow_stub/dtypes.py:543: FutureWarning: Passing (type, 1) or '1type' as a synonym of type is deprecated; in a future version of numpy, it will be understood as (type, (1,)) / '(1,)type'.\n",
      "  _np_qint16 = np.dtype([(\"qint16\", np.int16, 1)])\n",
      "/home/fufufukakaka/.pyenv/versions/anaconda3-5.3.1/lib/python3.7/site-packages/tensorboard/compat/tensorflow_stub/dtypes.py:544: FutureWarning: Passing (type, 1) or '1type' as a synonym of type is deprecated; in a future version of numpy, it will be understood as (type, (1,)) / '(1,)type'.\n",
      "  _np_quint16 = np.dtype([(\"quint16\", np.uint16, 1)])\n",
      "/home/fufufukakaka/.pyenv/versions/anaconda3-5.3.1/lib/python3.7/site-packages/tensorboard/compat/tensorflow_stub/dtypes.py:545: FutureWarning: Passing (type, 1) or '1type' as a synonym of type is deprecated; in a future version of numpy, it will be understood as (type, (1,)) / '(1,)type'.\n",
      "  _np_qint32 = np.dtype([(\"qint32\", np.int32, 1)])\n",
      "/home/fufufukakaka/.pyenv/versions/anaconda3-5.3.1/lib/python3.7/site-packages/tensorboard/compat/tensorflow_stub/dtypes.py:550: FutureWarning: Passing (type, 1) or '1type' as a synonym of type is deprecated; in a future version of numpy, it will be understood as (type, (1,)) / '(1,)type'.\n",
      "  np_resource = np.dtype([(\"resource\", np.ubyte, 1)])\n",
      "/home/fufufukakaka/.pyenv/versions/anaconda3-5.3.1/lib/python3.7/site-packages/cmfrec/__init__.py:892: UserWarning: 'item_info' contains no users in common with 'ratings'.\n",
      "  warnings.warn(\"'item_info' contains no users in common with 'ratings'.\")\n"
     ]
    },
    {
     "name": "stdout",
     "output_type": "stream",
     "text": [
      "WARNING:tensorflow:From /home/fufufukakaka/.pyenv/versions/anaconda3-5.3.1/lib/python3.7/site-packages/cmfrec/__init__.py:472: The name tf.placeholder is deprecated. Please use tf.compat.v1.placeholder instead.\n",
      "\n",
      "WARNING:tensorflow:From /home/fufufukakaka/.pyenv/versions/anaconda3-5.3.1/lib/python3.7/site-packages/cmfrec/__init__.py:487: The name tf.random_normal is deprecated. Please use tf.random.normal instead.\n",
      "\n",
      "WARNING:tensorflow:From /home/fufufukakaka/.pyenv/versions/anaconda3-5.3.1/lib/python3.7/site-packages/cmfrec/__init__.py:522: The name tf.losses.mean_squared_error is deprecated. Please use tf.compat.v1.losses.mean_squared_error instead.\n",
      "\n",
      "WARNING:tensorflow:From /home/fufufukakaka/.pyenv/versions/anaconda3-5.3.1/lib/python3.7/site-packages/tensorflow/python/ops/losses/losses_impl.py:121: add_dispatch_support.<locals>.wrapper (from tensorflow.python.ops.array_ops) is deprecated and will be removed in a future version.\n",
      "Instructions for updating:\n",
      "Use tf.where in 2.0, which has the same broadcast rule as np.where\n",
      "WARNING:tensorflow:\n",
      "The TensorFlow contrib module will not be included in TensorFlow 2.0.\n",
      "For more information, please see:\n",
      "  * https://github.com/tensorflow/community/blob/master/rfcs/20180907-contrib-sunset.md\n",
      "  * https://github.com/tensorflow/addons\n",
      "  * https://github.com/tensorflow/io (for I/O related ops)\n",
      "If you depend on functionality not listed there, please file an issue.\n",
      "\n",
      "WARNING:tensorflow:From /home/fufufukakaka/.pyenv/versions/anaconda3-5.3.1/lib/python3.7/site-packages/cmfrec/__init__.py:671: The name tf.global_variables_initializer is deprecated. Please use tf.compat.v1.global_variables_initializer instead.\n",
      "\n",
      "WARNING:tensorflow:From /home/fufufukakaka/.pyenv/versions/anaconda3-5.3.1/lib/python3.7/site-packages/cmfrec/__init__.py:672: The name tf.Session is deprecated. Please use tf.compat.v1.Session instead.\n",
      "\n",
      "WARNING:tensorflow:From /home/fufufukakaka/.pyenv/versions/anaconda3-5.3.1/lib/python3.7/site-packages/cmfrec/__init__.py:676: The name tf.logging.set_verbosity is deprecated. Please use tf.compat.v1.logging.set_verbosity instead.\n",
      "\n",
      "WARNING:tensorflow:From /home/fufufukakaka/.pyenv/versions/anaconda3-5.3.1/lib/python3.7/site-packages/cmfrec/__init__.py:676: The name tf.logging.INFO is deprecated. Please use tf.compat.v1.logging.INFO instead.\n",
      "\n",
      "INFO:tensorflow:Optimization terminated with:\n",
      "  Message: b'CONVERGENCE: NORM_OF_PROJECTED_GRADIENT_<=_PGTOL'\n",
      "  Objective function value: 1.169096\n",
      "  Number of iterations: 145\n",
      "  Number of functions evaluations: 159\n"
     ]
    },
    {
     "data": {
      "text/plain": [
       "<cmfrec.CMF at 0x7f807687ad68>"
      ]
     },
     "execution_count": 9,
     "metadata": {},
     "output_type": "execute_result"
    }
   ],
   "source": [
    "from cmfrec import CMF\n",
    "\n",
    "# fitting a model and making some recommendations\n",
    "recommender = CMF(k=20, k_main=3, k_user=2, k_item=1, reg_param=1e-4)\n",
    "recommender.fit(ratings=movies_ratings_stacked, user_info=user_attributes, item_info=item_attributes,\n",
    "                cols_bin_user=None, cols_bin_item=None)"
   ]
  },
  {
   "cell_type": "code",
   "execution_count": 10,
   "metadata": {
    "scrolled": true
   },
   "outputs": [
    {
     "name": "stderr",
     "output_type": "stream",
     "text": [
      "100%|██████████| 10339/10339 [00:57<00:00, 181.31it/s]\n"
     ]
    }
   ],
   "source": [
    "from lib.recommend_util import ndcg\n",
    "ndcgs = {\n",
    "    'ndcg5':  [],\n",
    "    'ndcg10':  [],\n",
    "    'ndcg20':  [],\n",
    "    'ndcg50':  [],\n",
    "    'ndcg100':  []\n",
    "}\n",
    "count = 0\n",
    "for userid, pos_items in tqdm(test_movies_and_TVs_pos_items_dict.items()):\n",
    "    pos_items = np.array(pos_items)\n",
    "    try:\n",
    "        recommended_items = np.array(recommender.topN(user=userid, n=100))\n",
    "        ndcgs['ndcg5'].append(ndcg(recommended_items[:5], pos_items))\n",
    "        ndcgs['ndcg10'].append(ndcg(recommended_items[:10], pos_items))\n",
    "        ndcgs['ndcg20'].append(ndcg(recommended_items[:20], pos_items))\n",
    "        ndcgs['ndcg50'].append(ndcg(recommended_items[:50], pos_items))\n",
    "        ndcgs['ndcg100'].append(ndcg(recommended_items[:100], pos_items))\n",
    "    except:\n",
    "        count += 1\n",
    "        # 推薦できないユーザの場合は無条件で0を入れる\n",
    "        ndcgs['ndcg5'].append(0)\n",
    "        ndcgs['ndcg10'].append(0)\n",
    "        ndcgs['ndcg20'].append(0)\n",
    "        ndcgs['ndcg50'].append(0)\n",
    "        ndcgs['ndcg100'].append(0)"
   ]
  },
  {
   "cell_type": "code",
   "execution_count": 11,
   "metadata": {},
   "outputs": [
    {
     "name": "stdout",
     "output_type": "stream",
     "text": [
      "ndcg@5: 0.004390742224187599\n",
      "ndcg@10: 0.007177840883149365\n",
      "ndcg@20: 0.008616386034564395\n",
      "ndcg@50: 0.013092420348606262\n",
      "ndcg@100: 0.017197446044378967\n"
     ]
    }
   ],
   "source": [
    "print(\"ndcg@5: {}\".format(np.mean(ndcgs['ndcg5'])))\n",
    "print(\"ndcg@10: {}\".format(np.mean(ndcgs['ndcg10'])))\n",
    "print(\"ndcg@20: {}\".format(np.mean(ndcgs['ndcg20'])))\n",
    "print(\"ndcg@50: {}\".format(np.mean(ndcgs['ndcg50'])))\n",
    "print(\"ndcg@100: {}\".format(np.mean(ndcgs['ndcg100'])))"
   ]
  }
 ],
 "metadata": {
  "kernelspec": {
   "display_name": "Python 3",
   "language": "python",
   "name": "python3"
  },
  "language_info": {
   "codemirror_mode": {
    "name": "ipython",
    "version": 3
   },
   "file_extension": ".py",
   "mimetype": "text/x-python",
   "name": "python",
   "nbconvert_exporter": "python",
   "pygments_lexer": "ipython3",
   "version": "3.7.0"
  }
 },
 "nbformat": 4,
 "nbformat_minor": 4
}
