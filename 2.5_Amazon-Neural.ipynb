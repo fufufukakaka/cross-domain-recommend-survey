{
 "cells": [
  {
   "cell_type": "code",
   "execution_count": 1,
   "metadata": {},
   "outputs": [],
   "source": [
    "from tqdm import tqdm\n",
    "from sklearn.decomposition import NMF\n",
    "import pandas as pd\n",
    "from scipy import sparse\n",
    "import numpy as np\n",
    "import implicit\n",
    "\n",
    "# read data\n",
    "ratings = pd.read_feather('data/amazon_review_ratings.feather')\n",
    "\n",
    "# indexing ids\n",
    "# userid\n",
    "userid_unique = pd.Series(ratings[\"userId\"].unique())\n",
    "index_userid_dict = userid_unique.to_dict()\n",
    "# inverse\n",
    "userid_index_dict = dict(map(reversed, index_userid_dict.items()))\n",
    "\n",
    "# itemid\n",
    "itemid_unique = pd.Series(ratings[\"itemId\"].unique())\n",
    "index_itemid_dict = itemid_unique.to_dict()\n",
    "# inverse\n",
    "itemid_index_dict = dict(map(reversed, index_itemid_dict.items()))\n",
    "\n",
    "ratings[\"userId_reindex\"] = ratings[\"userId\"].map(userid_index_dict)\n",
    "ratings[\"itemid_reindex\"] = ratings[\"itemId\"].map(itemid_index_dict)\n",
    "\n",
    "# reindexしたidを使って、アイテムとジャンルの対応が取れるdictを作る\n",
    "itemid_genres_dict = ratings[['itemid_reindex', 'category']].set_index('itemid_reindex')['category'].to_dict()"
   ]
  },
  {
   "cell_type": "code",
   "execution_count": 2,
   "metadata": {},
   "outputs": [],
   "source": [
    "import cloudpickle\n",
    "X_train = cloudpickle.load(open(\"output/Amazon-X_train.pkl\",\"rb\"))\n",
    "X_test = cloudpickle.load(open(\"output/Amazon-X_test.pkl\",\"rb\"))\n",
    "test_movies_and_TVs_pos_items_dict = cloudpickle.load(open('output/test_movies_and_TVs_pos_items_dict.pkl', 'rb'))"
   ]
  },
  {
   "cell_type": "code",
   "execution_count": 3,
   "metadata": {},
   "outputs": [],
   "source": [
    "# aggregateのtrainをbookとmoviesに分離する\n",
    "# bookの列\n",
    "book_columns = [v for v in range(X_train.shape[1]) if 'book' in itemid_genres_dict[v]]\n",
    "# moviesの列\n",
    "movies_columns = [v for v in range(X_train.shape[1]) if 'movies_and_TVs' in itemid_genres_dict[v]]\n",
    "\n",
    "# 選んだカラムに応じてとってくる\n",
    "book_train = X_train[:, book_columns]\n",
    "movies_train = X_train[:, movies_columns]\n",
    "\n",
    "# moviesのみ、アイテムidのconcatとの対応関係が必要なので辞書として持っておく\n",
    "movies_concat_itemid_dict = {}\n",
    "count = 0\n",
    "for v in range(X_train.shape[1]):\n",
    "    if 'movies_and_TVs' in itemid_genres_dict[v]:\n",
    "        movies_concat_itemid_dict[v] = count\n",
    "        count += 1"
   ]
  },
  {
   "cell_type": "code",
   "execution_count": 4,
   "metadata": {},
   "outputs": [],
   "source": [
    "# アイテムidのconcatとの対応関係が必要なので辞書として持っておく\n",
    "book_concat_itemid_dict = {}\n",
    "count = 0\n",
    "for v in range(X_train.shape[1]):\n",
    "    if 'book' in itemid_genres_dict[v]:\n",
    "        book_concat_itemid_dict[v] = count\n",
    "        count += 1\n",
    "# inverse\n",
    "inverse_book_concat_itemid_dict = dict(map(reversed, book_concat_itemid_dict.items()))\n",
    "\n",
    "movies_concat_itemid_dict = {}\n",
    "count = 0\n",
    "for v in range(X_train.shape[1]):\n",
    "    if 'movies_and_TVs' in itemid_genres_dict[v]:\n",
    "        movies_concat_itemid_dict[v] = count\n",
    "        count += 1\n",
    "# inverse\n",
    "inverse_movies_concat_itemid_dict = dict(map(reversed, movies_concat_itemid_dict.items()))"
   ]
  },
  {
   "cell_type": "code",
   "execution_count": 5,
   "metadata": {},
   "outputs": [],
   "source": [
    "# それぞれにアクションしていないユーザを削る\n",
    "# 全ユーザと、削ったあとでの対応関係を辞書として持っておく\n",
    "book_train_selected = book_train[book_train.getnnz(1)>0]\n",
    "movies_train_selected = movies_train[movies_train.getnnz(1)>0]\n",
    "\n",
    "book_train_action_users = {}\n",
    "book_users = book_train.getnnz(1)>0\n",
    "count = 0\n",
    "for i in range(book_train.shape[0]):\n",
    "    if book_users[i]:\n",
    "        book_train_action_users[i] = count\n",
    "        count += 1\n",
    "\n",
    "# inverse\n",
    "inverse_book_train_action_users = dict(map(reversed, book_train_action_users.items()))\n",
    "\n",
    "movies_train_action_users = {}\n",
    "movies_users = movies_train.getnnz(1)>0\n",
    "count = 0\n",
    "for i in range(movies_train.shape[0]):\n",
    "    if movies_users[i]:\n",
    "        movies_train_action_users[i] = count\n",
    "        count += 1\n",
    "\n",
    "# inverse\n",
    "inverse_movies_train_action_users = dict(map(reversed, movies_train_action_users.items()))"
   ]
  },
  {
   "cell_type": "code",
   "execution_count": 6,
   "metadata": {},
   "outputs": [],
   "source": [
    "# それぞれでALSする\n",
    "# 今回は mediateでやったときのものを使う\n",
    "book_ALS = cloudpickle.load(open('output/book_ALS.pkl', 'rb'))\n",
    "movies_ALS = cloudpickle.load(open(\"output/movies_ALS.pkl\",\"rb\"))\n",
    "\n",
    "book_ALS_user_vectors = book_ALS.user_factors\n",
    "movies_ALS_user_vectors = movies_ALS.user_factors"
   ]
  },
  {
   "cell_type": "code",
   "execution_count": 7,
   "metadata": {},
   "outputs": [
    {
     "name": "stderr",
     "output_type": "stream",
     "text": [
      "100%|██████████| 690240/690240 [00:00<00:00, 1044388.17it/s]\n"
     ]
    }
   ],
   "source": [
    "# bookとmoviesでoverlapしているユーザで、ベクトルの対応表を作る\n",
    "overlap_book_user_vectors = []\n",
    "overlap_movies_user_vectors = []\n",
    "count = 0\n",
    "for u in tqdm(range(X_train.shape[0])):\n",
    "    if u in book_train_action_users and u in movies_train_action_users:\n",
    "        overlap_book_user_vectors.append(book_ALS_user_vectors[book_train_action_users[u]].tolist())\n",
    "        overlap_movies_user_vectors.append(movies_ALS_user_vectors[movies_train_action_users[u]].tolist())"
   ]
  },
  {
   "cell_type": "code",
   "execution_count": 8,
   "metadata": {
    "scrolled": true
   },
   "outputs": [
    {
     "name": "stderr",
     "output_type": "stream",
     "text": [
      "Using TensorFlow backend.\n",
      "/home/fufufukakaka/.pyenv/versions/anaconda3-5.3.1/lib/python3.7/site-packages/tensorflow/python/framework/dtypes.py:516: FutureWarning: Passing (type, 1) or '1type' as a synonym of type is deprecated; in a future version of numpy, it will be understood as (type, (1,)) / '(1,)type'.\n",
      "  _np_qint8 = np.dtype([(\"qint8\", np.int8, 1)])\n",
      "/home/fufufukakaka/.pyenv/versions/anaconda3-5.3.1/lib/python3.7/site-packages/tensorflow/python/framework/dtypes.py:517: FutureWarning: Passing (type, 1) or '1type' as a synonym of type is deprecated; in a future version of numpy, it will be understood as (type, (1,)) / '(1,)type'.\n",
      "  _np_quint8 = np.dtype([(\"quint8\", np.uint8, 1)])\n",
      "/home/fufufukakaka/.pyenv/versions/anaconda3-5.3.1/lib/python3.7/site-packages/tensorflow/python/framework/dtypes.py:518: FutureWarning: Passing (type, 1) or '1type' as a synonym of type is deprecated; in a future version of numpy, it will be understood as (type, (1,)) / '(1,)type'.\n",
      "  _np_qint16 = np.dtype([(\"qint16\", np.int16, 1)])\n",
      "/home/fufufukakaka/.pyenv/versions/anaconda3-5.3.1/lib/python3.7/site-packages/tensorflow/python/framework/dtypes.py:519: FutureWarning: Passing (type, 1) or '1type' as a synonym of type is deprecated; in a future version of numpy, it will be understood as (type, (1,)) / '(1,)type'.\n",
      "  _np_quint16 = np.dtype([(\"quint16\", np.uint16, 1)])\n",
      "/home/fufufukakaka/.pyenv/versions/anaconda3-5.3.1/lib/python3.7/site-packages/tensorflow/python/framework/dtypes.py:520: FutureWarning: Passing (type, 1) or '1type' as a synonym of type is deprecated; in a future version of numpy, it will be understood as (type, (1,)) / '(1,)type'.\n",
      "  _np_qint32 = np.dtype([(\"qint32\", np.int32, 1)])\n",
      "/home/fufufukakaka/.pyenv/versions/anaconda3-5.3.1/lib/python3.7/site-packages/tensorflow/python/framework/dtypes.py:525: FutureWarning: Passing (type, 1) or '1type' as a synonym of type is deprecated; in a future version of numpy, it will be understood as (type, (1,)) / '(1,)type'.\n",
      "  np_resource = np.dtype([(\"resource\", np.ubyte, 1)])\n",
      "/home/fufufukakaka/.pyenv/versions/anaconda3-5.3.1/lib/python3.7/site-packages/tensorboard/compat/tensorflow_stub/dtypes.py:541: FutureWarning: Passing (type, 1) or '1type' as a synonym of type is deprecated; in a future version of numpy, it will be understood as (type, (1,)) / '(1,)type'.\n",
      "  _np_qint8 = np.dtype([(\"qint8\", np.int8, 1)])\n",
      "/home/fufufukakaka/.pyenv/versions/anaconda3-5.3.1/lib/python3.7/site-packages/tensorboard/compat/tensorflow_stub/dtypes.py:542: FutureWarning: Passing (type, 1) or '1type' as a synonym of type is deprecated; in a future version of numpy, it will be understood as (type, (1,)) / '(1,)type'.\n",
      "  _np_quint8 = np.dtype([(\"quint8\", np.uint8, 1)])\n",
      "/home/fufufukakaka/.pyenv/versions/anaconda3-5.3.1/lib/python3.7/site-packages/tensorboard/compat/tensorflow_stub/dtypes.py:543: FutureWarning: Passing (type, 1) or '1type' as a synonym of type is deprecated; in a future version of numpy, it will be understood as (type, (1,)) / '(1,)type'.\n",
      "  _np_qint16 = np.dtype([(\"qint16\", np.int16, 1)])\n",
      "/home/fufufukakaka/.pyenv/versions/anaconda3-5.3.1/lib/python3.7/site-packages/tensorboard/compat/tensorflow_stub/dtypes.py:544: FutureWarning: Passing (type, 1) or '1type' as a synonym of type is deprecated; in a future version of numpy, it will be understood as (type, (1,)) / '(1,)type'.\n",
      "  _np_quint16 = np.dtype([(\"quint16\", np.uint16, 1)])\n",
      "/home/fufufukakaka/.pyenv/versions/anaconda3-5.3.1/lib/python3.7/site-packages/tensorboard/compat/tensorflow_stub/dtypes.py:545: FutureWarning: Passing (type, 1) or '1type' as a synonym of type is deprecated; in a future version of numpy, it will be understood as (type, (1,)) / '(1,)type'.\n",
      "  _np_qint32 = np.dtype([(\"qint32\", np.int32, 1)])\n",
      "/home/fufufukakaka/.pyenv/versions/anaconda3-5.3.1/lib/python3.7/site-packages/tensorboard/compat/tensorflow_stub/dtypes.py:550: FutureWarning: Passing (type, 1) or '1type' as a synonym of type is deprecated; in a future version of numpy, it will be understood as (type, (1,)) / '(1,)type'.\n",
      "  np_resource = np.dtype([(\"resource\", np.ubyte, 1)])\n"
     ]
    }
   ],
   "source": [
    "# AutoEncoderの学習をする(movielensで良かったモデルがAutoEncoderだったので、こちらではこれに絞る)\n",
    "from keras.layers import Input, Dense, Dropout\n",
    "from keras.models import Model, load_model\n",
    "from keras.callbacks import EarlyStopping, ModelCheckpoint\n",
    "import tensorflow as tf\n",
    "from keras import backend as K\n",
    "\n",
    "np.random.seed(0)\n",
    "tf.set_random_seed(0)\n",
    "sess = tf.Session(graph=tf.get_default_graph())\n",
    "K.set_session(sess)\n",
    "\n",
    "def build_model(input_dim, output_dim):\n",
    "    inputs = Input(shape=(input_dim,))\n",
    "    encoded = Dense(128, activation='relu')(inputs)\n",
    "    encoded = Dense(64, activation='relu')(encoded)\n",
    "    encoded = Dense(32, activation='relu')(encoded)\n",
    "\n",
    "    decoded = Dense(64, activation='relu')(encoded)\n",
    "    decoded = Dense(128, activation='relu')(decoded)\n",
    "    decoded = Dense(output_dim, activation='sigmoid')(decoded)\n",
    "    autoencoder = Model(inputs, decoded)\n",
    "    autoencoder.compile(optimizer='adam', loss='mean_squared_error', metrics=['mae','mse'])\n",
    "    return autoencoder"
   ]
  },
  {
   "cell_type": "code",
   "execution_count": 9,
   "metadata": {},
   "outputs": [
    {
     "name": "stdout",
     "output_type": "stream",
     "text": [
      "learning_count: 0\n",
      "WARNING:tensorflow:From /home/fufufukakaka/.pyenv/versions/anaconda3-5.3.1/lib/python3.7/site-packages/keras/backend/tensorflow_backend.py:422: The name tf.global_variables is deprecated. Please use tf.compat.v1.global_variables instead.\n",
      "\n",
      "rmse: 0.10707534265854471\n",
      "learning_count: 1\n",
      "rmse: 0.10620641601163848\n",
      "learning_count: 2\n",
      "rmse: 0.09128998814209639\n",
      "learning_count: 3\n",
      "rmse: 0.10536068081350755\n",
      "learning_count: 4\n",
      "rmse: 0.10353830496714704\n",
      "learning_count: 5\n",
      "rmse: 0.09654737544047319\n",
      "learning_count: 6\n",
      "rmse: 0.0838253663763926\n",
      "learning_count: 7\n",
      "rmse: 0.08520135045128895\n",
      "learning_count: 8\n",
      "rmse: 0.09761120742132519\n",
      "learning_count: 9\n",
      "rmse: 0.10885488643645487\n"
     ]
    }
   ],
   "source": [
    "from sklearn.model_selection import KFold, train_test_split\n",
    "from sklearn.metrics import mean_squared_error\n",
    "import numpy as np\n",
    "\n",
    "X = np.array(overlap_book_user_vectors)\n",
    "y = np.array(overlap_movies_user_vectors)\n",
    "epoch_size = 100\n",
    "batch_size = 128\n",
    "es_cb = EarlyStopping(\n",
    "    monitor='val_loss',\n",
    "    patience=10,\n",
    "    verbose=0,\n",
    "    mode='auto')\n",
    "models = []\n",
    "rmses_ = []\n",
    "kf = KFold(n_splits=10, shuffle=True, random_state=42)\n",
    "count = 0\n",
    "for train_index, test_index in kf.split(X):\n",
    "    print(f\"learning_count: {count}\")\n",
    "    count += 1\n",
    "    X_train_vector, X_test_vector = X[train_index], X[test_index]\n",
    "    y_train_vector, y_test_vector = y[train_index], y[test_index]\n",
    "    X_train_vector, X_val_vector, y_train_vector, y_val_vector = train_test_split(X_train_vector, y_train_vector, random_state=42)\n",
    "    model = build_model(X_train_vector.shape[1], y_train_vector.shape[1])\n",
    "    mcheck = ModelCheckpoint(\n",
    "        f'output/Amazon-model_k_{count}.h5',\n",
    "        monitor='val_loss',\n",
    "        save_best_only=True,\n",
    "        verbose=0\n",
    "    )\n",
    "    model.fit(\n",
    "        X_train_vector,\n",
    "        y_train_vector,\n",
    "        batch_size=batch_size,\n",
    "        epochs=epoch_size,\n",
    "        validation_data=(\n",
    "            X_val_vector,\n",
    "            y_val_vector),\n",
    "        callbacks=[\n",
    "            mcheck,\n",
    "            es_cb],\n",
    "        shuffle=True,\n",
    "        verbose=0)\n",
    "    best_model = load_model(f'output/Amazon-model_k_{count}.h5')\n",
    "    y_pred = best_model.predict(X_test_vector)\n",
    "    rmse_ = np.sqrt(mean_squared_error(y_pred, y_test_vector))\n",
    "    print('rmse: {}'.format(rmse_))\n",
    "    rmses_.append(rmse_)\n",
    "    models.append(best_model)"
   ]
  },
  {
   "cell_type": "code",
   "execution_count": 10,
   "metadata": {},
   "outputs": [],
   "source": [
    "# moviesのitemのベクトル\n",
    "movies_item_vectors = movies_ALS.item_factors"
   ]
  },
  {
   "cell_type": "code",
   "execution_count": 11,
   "metadata": {},
   "outputs": [
    {
     "name": "stderr",
     "output_type": "stream",
     "text": [
      "100%|██████████| 10189/10189 [02:12<00:00, 76.76it/s]\n",
      "100%|██████████| 10189/10189 [02:03<00:00, 82.62it/s]\n",
      "100%|██████████| 10189/10189 [02:01<00:00, 83.54it/s]\n",
      "100%|██████████| 10189/10189 [02:02<00:00, 82.89it/s]\n",
      "100%|██████████| 10189/10189 [02:09<00:00, 78.96it/s]\n",
      "100%|██████████| 10189/10189 [02:08<00:00, 79.16it/s]\n",
      "100%|██████████| 10189/10189 [02:07<00:00, 79.92it/s]\n",
      "100%|██████████| 10189/10189 [02:03<00:00, 82.64it/s]\n",
      "100%|██████████| 10189/10189 [02:04<00:00, 81.89it/s]\n",
      "100%|██████████| 10189/10189 [02:05<00:00, 81.42it/s]\n"
     ]
    }
   ],
   "source": [
    "from lib.recommend_util import ndcg\n",
    "\n",
    "ndcg_values = []\n",
    "for learning_count in range(1,11):\n",
    "    ndcgs = {\n",
    "        'ndcg5':  [],\n",
    "        'ndcg10':  [],\n",
    "        'ndcg20':  [],\n",
    "        'ndcg50':  [],\n",
    "        'ndcg100':  []\n",
    "    }\n",
    "    best_model = load_model(f'output/Amazon-model_k_{learning_count}.h5')\n",
    "\n",
    "    for userid, pos_items in tqdm(test_movies_and_TVs_pos_items_dict.items()):\n",
    "       # pos_itemsをadventure_matrixの次元に変換する\n",
    "        pos_items = np.array([movies_concat_itemid_dict[v] for v in pos_items])\n",
    "       # useridに対応するユーザベクトル(book)を得る\n",
    "        try:\n",
    "            book_userid = book_train_action_users[userid]\n",
    "        except:\n",
    "            # 推薦できないユーザの場合は無条件で0を入れる\n",
    "            ndcgs['ndcg5'].append(0)\n",
    "            ndcgs['ndcg10'].append(0)\n",
    "            ndcgs['ndcg20'].append(0)\n",
    "            ndcgs['ndcg50'].append(0)\n",
    "            ndcgs['ndcg100'].append(0)\n",
    "            continue\n",
    "\n",
    "        book_user_vector = book_ALS_user_vectors[book_userid, :]\n",
    "        # AutoEncoderを使ってmoviesの次元に変換する\n",
    "        movies_user_vector_action_AE = best_model.predict(book_user_vector.reshape(1, -1))\n",
    "        # adventureのitemのベクトルと掛け合わせる\n",
    "        movies_predict = np.dot(movies_user_vector_action_AE, movies_item_vectors.T)\n",
    "        # sum_ratingsをargsort\n",
    "        sorted_indices = np.array([v for v in np.argsort(-movies_predict)])[0]\n",
    "        ndcgs['ndcg5'].append(ndcg(sorted_indices[:5], pos_items))\n",
    "        ndcgs['ndcg10'].append(ndcg(sorted_indices[:10], pos_items))\n",
    "        ndcgs['ndcg20'].append(ndcg(sorted_indices[:20], pos_items))\n",
    "        ndcgs['ndcg50'].append(ndcg(sorted_indices[:50], pos_items))\n",
    "        ndcgs['ndcg100'].append(ndcg(sorted_indices[:100], pos_items))\n",
    "    \n",
    "    ndcg_values.append(ndcgs)"
   ]
  },
  {
   "cell_type": "code",
   "execution_count": 13,
   "metadata": {},
   "outputs": [
    {
     "data": {
      "text/plain": [
       "[0.007450934447675713,\n",
       " 0.007216759371651771,\n",
       " 0.007303198221356147,\n",
       " 0.007560777501411066,\n",
       " 0.006897607838423477,\n",
       " 0.007876377621849687,\n",
       " 0.006323827456290612,\n",
       " 0.006492817899959384,\n",
       " 0.007009467216250075,\n",
       " 0.008314511155281302]"
      ]
     },
     "execution_count": 13,
     "metadata": {},
     "output_type": "execute_result"
    }
   ],
   "source": [
    "ndcg5"
   ]
  },
  {
   "cell_type": "code",
   "execution_count": 12,
   "metadata": {},
   "outputs": [
    {
     "name": "stdout",
     "output_type": "stream",
     "text": [
      "ndcg@5: 0.007244627873014923\n",
      "ndcg@10: 0.010229685288534119\n",
      "ndcg@20: 0.014418256732126808\n",
      "ndcg@50: 0.02120226903428524\n",
      "ndcg@100: 0.02818490020565011\n"
     ]
    }
   ],
   "source": [
    "ndcg5 = []\n",
    "ndcg10 = []\n",
    "ndcg20 = []\n",
    "ndcg50 = []\n",
    "ndcg100 = []\n",
    "for ndcgs in  ndcg_values:\n",
    "    ndcg5.append(np.mean(ndcgs['ndcg5']))\n",
    "    ndcg10.append(np.mean(ndcgs['ndcg10']))\n",
    "    ndcg20.append(np.mean(ndcgs['ndcg20']))\n",
    "    ndcg50.append(np.mean(ndcgs['ndcg50']))\n",
    "    ndcg100.append(np.mean(ndcgs['ndcg100']))\n",
    "    \n",
    "print(\"ndcg@5: {}\".format(np.mean(ndcg5)))\n",
    "print(\"ndcg@10: {}\".format(np.mean(ndcg10)))\n",
    "print(\"ndcg@20: {}\".format(np.mean(ndcg20)))\n",
    "print(\"ndcg@50: {}\".format(np.mean(ndcg50)))\n",
    "print(\"ndcg@100: {}\".format(np.mean(ndcg100)))"
   ]
  }
 ],
 "metadata": {
  "kernelspec": {
   "display_name": "Python 3",
   "language": "python",
   "name": "python3"
  },
  "language_info": {
   "codemirror_mode": {
    "name": "ipython",
    "version": 3
   },
   "file_extension": ".py",
   "mimetype": "text/x-python",
   "name": "python",
   "nbconvert_exporter": "python",
   "pygments_lexer": "ipython3",
   "version": "3.7.0"
  }
 },
 "nbformat": 4,
 "nbformat_minor": 4
}
