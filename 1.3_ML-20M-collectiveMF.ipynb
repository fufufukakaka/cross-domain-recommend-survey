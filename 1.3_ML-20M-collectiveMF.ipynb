{
 "cells": [
  {
   "cell_type": "code",
   "execution_count": 1,
   "metadata": {},
   "outputs": [],
   "source": [
    "from tqdm import tqdm\n",
    "from sklearn.decomposition import NMF\n",
    "import pandas as pd\n",
    "from scipy import sparse\n",
    "import numpy as np\n",
    "\n",
    "# read data\n",
    "movies = pd.read_csv(\"data/ml-20m/movies.csv\")\n",
    "ratings = pd.read_csv(\"data/ml-20m/ratings.csv\")\n",
    "\n",
    "# join\n",
    "ratings_joined = pd.merge(ratings, movies)\n",
    "\n",
    "# ratingsをsparse matrixに変換して横持ちにする\n",
    "action_adventure_ratings = ratings_joined.query(\"genres.str.contains('Action') or genres.str.contains('Adventure')\", \n",
    "                                                engine='python').reset_index(drop=True)\n",
    "# indexing ids\n",
    "# userid\n",
    "userid_unique = pd.Series(action_adventure_ratings[\"userId\"].unique())\n",
    "index_userid_dict = userid_unique.to_dict()\n",
    "# inverse\n",
    "userid_index_dict = dict(map(reversed, index_userid_dict.items()))\n",
    "\n",
    "# itemid\n",
    "itemid_unique = pd.Series(action_adventure_ratings[\"movieId\"].unique())\n",
    "index_itemid_dict = itemid_unique.to_dict()\n",
    "# inverse\n",
    "itemid_index_dict = dict(map(reversed, index_itemid_dict.items()))\n",
    "\n",
    "action_adventure_ratings[\"user_id\"] = action_adventure_ratings[\"userId\"].map(userid_index_dict)\n",
    "action_adventure_ratings[\"item_id\"] = action_adventure_ratings[\"movieId\"].map(itemid_index_dict)\n",
    "\n",
    "# reindexしたidを使って、アイテムとジャンルの対応が取れるdictを作る\n",
    "itemid_genres_dict = action_adventure_ratings[['item_id', 'genres']].set_index('item_id')['genres'].to_dict()"
   ]
  },
  {
   "cell_type": "code",
   "execution_count": 2,
   "metadata": {},
   "outputs": [],
   "source": [
    "import cloudpickle\n",
    "X_train = cloudpickle.load(open(\"output/ML-20M-X_train.pkl\",\"rb\"))\n",
    "X_test = cloudpickle.load(open(\"output/ML-20M-X_test.pkl\",\"rb\"))"
   ]
  },
  {
   "cell_type": "code",
   "execution_count": 3,
   "metadata": {},
   "outputs": [],
   "source": [
    "# aggregateのtrainをactionとadventureに分離する\n",
    "# actionの列\n",
    "action_columns = [v for v in range(X_train.shape[1]) if 'Action' in itemid_genres_dict[v]]\n",
    "# adventureの列\n",
    "adventure_columns = [v for v in range(X_train.shape[1]) if 'Adventure' in itemid_genres_dict[v]]\n",
    "\n",
    "# 選んだカラムに応じてとってくる\n",
    "action_train = X_train[:, action_columns]\n",
    "adventure_train = X_train[:, adventure_columns]\n",
    "\n",
    "# adventureのみ、アイテムidのconcatとの対応関係が必要なので辞書として持っておく\n",
    "adventure_concat_itemid_dict = {}\n",
    "count = 0\n",
    "for v in range(X_train.shape[1]):\n",
    "    if 'Adventure' in itemid_genres_dict[v]:\n",
    "        adventure_concat_itemid_dict[v] = count\n",
    "        count += 1"
   ]
  },
  {
   "cell_type": "code",
   "execution_count": 4,
   "metadata": {
    "scrolled": true
   },
   "outputs": [
    {
     "name": "stdout",
     "output_type": "stream",
     "text": [
      "Collecting cmfrec\n",
      "  Downloading https://files.pythonhosted.org/packages/aa/a4/7e7f6396225ed0646a8a686273396370ca43eecec1e2fd10c43d14715646/cmfrec-0.5.2.3.tar.gz\n",
      "Requirement already satisfied: pandas>=0.21 in /home/fufufukakaka/.pyenv/versions/anaconda3-5.3.1/lib/python3.7/site-packages (from cmfrec) (0.23.4)\n",
      "Requirement already satisfied: numpy in /home/fufufukakaka/.pyenv/versions/anaconda3-5.3.1/lib/python3.7/site-packages (from cmfrec) (1.17.2)\n",
      "Requirement already satisfied: scipy in /home/fufufukakaka/.pyenv/versions/anaconda3-5.3.1/lib/python3.7/site-packages (from cmfrec) (1.1.0)\n",
      "Requirement already satisfied: tensorflow>=1.0.0 in /home/fufufukakaka/.pyenv/versions/anaconda3-5.3.1/lib/python3.7/site-packages (from cmfrec) (2.0.0)\n",
      "Requirement already satisfied: python-dateutil>=2.5.0 in /home/fufufukakaka/.pyenv/versions/anaconda3-5.3.1/lib/python3.7/site-packages (from pandas>=0.21->cmfrec) (2.7.3)\n",
      "Requirement already satisfied: pytz>=2011k in /home/fufufukakaka/.pyenv/versions/anaconda3-5.3.1/lib/python3.7/site-packages (from pandas>=0.21->cmfrec) (2018.5)\n",
      "Requirement already satisfied: termcolor>=1.1.0 in /home/fufufukakaka/.pyenv/versions/anaconda3-5.3.1/lib/python3.7/site-packages (from tensorflow>=1.0.0->cmfrec) (1.1.0)\n",
      "Requirement already satisfied: wheel>=0.26 in /home/fufufukakaka/.pyenv/versions/anaconda3-5.3.1/lib/python3.7/site-packages (from tensorflow>=1.0.0->cmfrec) (0.31.1)\n",
      "Requirement already satisfied: wrapt>=1.11.1 in /home/fufufukakaka/.pyenv/versions/anaconda3-5.3.1/lib/python3.7/site-packages (from tensorflow>=1.0.0->cmfrec) (1.11.2)\n",
      "Requirement already satisfied: absl-py>=0.7.0 in /home/fufufukakaka/.pyenv/versions/anaconda3-5.3.1/lib/python3.7/site-packages (from tensorflow>=1.0.0->cmfrec) (0.8.0)\n",
      "Requirement already satisfied: grpcio>=1.8.6 in /home/fufufukakaka/.pyenv/versions/anaconda3-5.3.1/lib/python3.7/site-packages (from tensorflow>=1.0.0->cmfrec) (1.24.1)\n",
      "Requirement already satisfied: protobuf>=3.6.1 in /home/fufufukakaka/.pyenv/versions/anaconda3-5.3.1/lib/python3.7/site-packages (from tensorflow>=1.0.0->cmfrec) (3.10.0)\n",
      "Requirement already satisfied: tensorboard<2.1.0,>=2.0.0 in /home/fufufukakaka/.pyenv/versions/anaconda3-5.3.1/lib/python3.7/site-packages (from tensorflow>=1.0.0->cmfrec) (2.0.0)\n",
      "Requirement already satisfied: astor>=0.6.0 in /home/fufufukakaka/.pyenv/versions/anaconda3-5.3.1/lib/python3.7/site-packages (from tensorflow>=1.0.0->cmfrec) (0.8.0)\n",
      "Requirement already satisfied: tensorflow-estimator<2.1.0,>=2.0.0 in /home/fufufukakaka/.pyenv/versions/anaconda3-5.3.1/lib/python3.7/site-packages (from tensorflow>=1.0.0->cmfrec) (2.0.0)\n",
      "Requirement already satisfied: keras-preprocessing>=1.0.5 in /home/fufufukakaka/.pyenv/versions/anaconda3-5.3.1/lib/python3.7/site-packages (from tensorflow>=1.0.0->cmfrec) (1.1.0)\n",
      "Requirement already satisfied: opt-einsum>=2.3.2 in /home/fufufukakaka/.pyenv/versions/anaconda3-5.3.1/lib/python3.7/site-packages (from tensorflow>=1.0.0->cmfrec) (3.1.0)\n",
      "Requirement already satisfied: gast==0.2.2 in /home/fufufukakaka/.pyenv/versions/anaconda3-5.3.1/lib/python3.7/site-packages (from tensorflow>=1.0.0->cmfrec) (0.2.2)\n",
      "Requirement already satisfied: keras-applications>=1.0.8 in /home/fufufukakaka/.pyenv/versions/anaconda3-5.3.1/lib/python3.7/site-packages (from tensorflow>=1.0.0->cmfrec) (1.0.8)\n",
      "Requirement already satisfied: google-pasta>=0.1.6 in /home/fufufukakaka/.pyenv/versions/anaconda3-5.3.1/lib/python3.7/site-packages (from tensorflow>=1.0.0->cmfrec) (0.1.7)\n",
      "Requirement already satisfied: six>=1.10.0 in /home/fufufukakaka/.pyenv/versions/anaconda3-5.3.1/lib/python3.7/site-packages (from tensorflow>=1.0.0->cmfrec) (1.11.0)\n",
      "Requirement already satisfied: setuptools in /home/fufufukakaka/.pyenv/versions/anaconda3-5.3.1/lib/python3.7/site-packages (from protobuf>=3.6.1->tensorflow>=1.0.0->cmfrec) (40.2.0)\n",
      "Requirement already satisfied: werkzeug>=0.11.15 in /home/fufufukakaka/.pyenv/versions/anaconda3-5.3.1/lib/python3.7/site-packages (from tensorboard<2.1.0,>=2.0.0->tensorflow>=1.0.0->cmfrec) (0.14.1)\n",
      "Requirement already satisfied: markdown>=2.6.8 in /home/fufufukakaka/.pyenv/versions/anaconda3-5.3.1/lib/python3.7/site-packages (from tensorboard<2.1.0,>=2.0.0->tensorflow>=1.0.0->cmfrec) (3.1.1)\n",
      "Requirement already satisfied: h5py in /home/fufufukakaka/.pyenv/versions/anaconda3-5.3.1/lib/python3.7/site-packages (from keras-applications>=1.0.8->tensorflow>=1.0.0->cmfrec) (2.8.0)\n",
      "Building wheels for collected packages: cmfrec\n",
      "  Building wheel for cmfrec (setup.py) ... \u001b[?25ldone\n",
      "\u001b[?25h  Created wheel for cmfrec: filename=cmfrec-0.5.2.3-cp37-none-any.whl size=17654 sha256=6432eb3a3a0af469f004c068c4c83a5c2bad8da826ee4ae398f34a2188b3ad6b\n",
      "  Stored in directory: /home/fufufukakaka/.cache/pip/wheels/38/25/60/7380da6f3874971edc38b1b7e11317bc40fd8e9d01028f7cee\n",
      "Successfully built cmfrec\n",
      "Installing collected packages: cmfrec\n",
      "Successfully installed cmfrec-0.5.2.3\n"
     ]
    }
   ],
   "source": [
    "# collective matrix factorizationのパッケージ\n",
    "!pip3 install cmfrec"
   ]
  },
  {
   "cell_type": "code",
   "execution_count": 4,
   "metadata": {},
   "outputs": [],
   "source": [
    "# アイテムidのconcatとの対応関係が必要なので辞書として持っておく\n",
    "action_concat_itemid_dict = {}\n",
    "count = 0\n",
    "for v in range(X_train.shape[1]):\n",
    "    if 'Action' in itemid_genres_dict[v]:\n",
    "        action_concat_itemid_dict[v] = count\n",
    "        count += 1\n",
    "# inverse\n",
    "inverse_action_concat_itemid_dict = dict(map(reversed, action_concat_itemid_dict.items()))\n",
    "\n",
    "adventure_concat_itemid_dict = {}\n",
    "count = 0\n",
    "for v in range(X_train.shape[1]):\n",
    "    if 'Adventure' in itemid_genres_dict[v]:\n",
    "        adventure_concat_itemid_dict[v] = count\n",
    "        count += 1\n",
    "# inverse\n",
    "inverse_adventure_concat_itemid_dict = dict(map(reversed, adventure_concat_itemid_dict.items()))"
   ]
  },
  {
   "cell_type": "code",
   "execution_count": 5,
   "metadata": {},
   "outputs": [],
   "source": [
    "# それぞれにアクションしていないユーザを削る\n",
    "# 全ユーザと、削ったあとでの対応関係を辞書として持っておく\n",
    "action_train_selected = action_train[action_train.getnnz(1)>0]\n",
    "adventure_train_selected = adventure_train[adventure_train.getnnz(1)>0]\n",
    "\n",
    "action_train_action_users = {}\n",
    "action_users = action_train.getnnz(1)>0\n",
    "count = 0\n",
    "for i in range(action_train.shape[0]):\n",
    "    if action_users[i]:\n",
    "        action_train_action_users[i] = count\n",
    "        count += 1\n",
    "\n",
    "# inverse\n",
    "inverse_action_train_action_users = dict(map(reversed, action_train_action_users.items()))\n",
    "\n",
    "adventure_train_action_users = {}\n",
    "adventure_users = adventure_train.getnnz(1)>0\n",
    "count = 0\n",
    "for i in range(adventure_train.shape[0]):\n",
    "    if adventure_users[i]:\n",
    "        adventure_train_action_users[i] = count\n",
    "        count += 1\n",
    "\n",
    "# inverse\n",
    "inverse_adventure_train_action_users = dict(map(reversed, adventure_train_action_users.items()))"
   ]
  },
  {
   "cell_type": "code",
   "execution_count": 6,
   "metadata": {},
   "outputs": [],
   "source": [
    "# actionだけでALSをまず行う\n",
    "# mediateでの結果をそのまま持ってくる\n",
    "import cloudpickle\n",
    "action_ALS = cloudpickle.load(open('output/ML-20M-action_ALS.pkl', 'rb'))"
   ]
  },
  {
   "cell_type": "code",
   "execution_count": 7,
   "metadata": {},
   "outputs": [],
   "source": [
    "# side informationとしてaction_NMFで得られたベクトルを使う\n",
    "user_attributes = pd.DataFrame(action_ALS.user_factors)\n",
    "user_attributes['UserId'] = user_attributes.index\n",
    "# useridをconcatの次元に戻す\n",
    "user_attributes['UserId'] = user_attributes['UserId'].map(inverse_action_train_action_users)\n",
    "\n",
    "item_attributes = pd.DataFrame(action_ALS.item_factors)\n",
    "item_attributes['ItemId'] = item_attributes.index\n",
    "# itemidをconcatの次元に戻す\n",
    "item_attributes['ItemId'] = item_attributes['ItemId'].map(inverse_action_concat_itemid_dict)"
   ]
  },
  {
   "cell_type": "code",
   "execution_count": 8,
   "metadata": {
    "scrolled": true
   },
   "outputs": [
    {
     "name": "stderr",
     "output_type": "stream",
     "text": [
      "100%|██████████| 138389/138389 [00:35<00:00, 3911.41it/s]\n"
     ]
    }
   ],
   "source": [
    "# X_trainから縦持ちに復元する(X_trainが既に横持ちなので)\n",
    "userid_stacked = []\n",
    "itemid_stacked = []\n",
    "ratings_stacked = []\n",
    "\n",
    "for i in tqdm(range(X_train.shape[0])):\n",
    "    ratings = X_train[i, :].data\n",
    "    item_idx = X_train[i, :].indices\n",
    "    for idx, v in enumerate(item_idx):\n",
    "        if 'Adventure' in itemid_genres_dict[v]:\n",
    "            userid_stacked.append(i)\n",
    "            itemid_stacked.append(v)\n",
    "            ratings_stacked.append(ratings[idx])\n",
    "\n",
    "adventure_ratings_stacked = pd.DataFrame()\n",
    "adventure_ratings_stacked['UserId'] = userid_stacked\n",
    "adventure_ratings_stacked['ItemId'] = itemid_stacked\n",
    "adventure_ratings_stacked['Rating'] = ratings_stacked"
   ]
  },
  {
   "cell_type": "code",
   "execution_count": 9,
   "metadata": {},
   "outputs": [
    {
     "data": {
      "text/html": [
       "<div>\n",
       "<style scoped>\n",
       "    .dataframe tbody tr th:only-of-type {\n",
       "        vertical-align: middle;\n",
       "    }\n",
       "\n",
       "    .dataframe tbody tr th {\n",
       "        vertical-align: top;\n",
       "    }\n",
       "\n",
       "    .dataframe thead th {\n",
       "        text-align: right;\n",
       "    }\n",
       "</style>\n",
       "<table border=\"1\" class=\"dataframe\">\n",
       "  <thead>\n",
       "    <tr style=\"text-align: right;\">\n",
       "      <th></th>\n",
       "      <th>UserId</th>\n",
       "      <th>ItemId</th>\n",
       "      <th>Rating</th>\n",
       "    </tr>\n",
       "  </thead>\n",
       "  <tbody>\n",
       "    <tr>\n",
       "      <th>0</th>\n",
       "      <td>0</td>\n",
       "      <td>71</td>\n",
       "      <td>3.0</td>\n",
       "    </tr>\n",
       "    <tr>\n",
       "      <th>1</th>\n",
       "      <td>0</td>\n",
       "      <td>99</td>\n",
       "      <td>4.0</td>\n",
       "    </tr>\n",
       "    <tr>\n",
       "      <th>2</th>\n",
       "      <td>1</td>\n",
       "      <td>185</td>\n",
       "      <td>5.0</td>\n",
       "    </tr>\n",
       "    <tr>\n",
       "      <th>3</th>\n",
       "      <td>2</td>\n",
       "      <td>174</td>\n",
       "      <td>3.0</td>\n",
       "    </tr>\n",
       "    <tr>\n",
       "      <th>4</th>\n",
       "      <td>3</td>\n",
       "      <td>103</td>\n",
       "      <td>5.0</td>\n",
       "    </tr>\n",
       "  </tbody>\n",
       "</table>\n",
       "</div>"
      ],
      "text/plain": [
       "   UserId  ItemId  Rating\n",
       "0       0      71     3.0\n",
       "1       0      99     4.0\n",
       "2       1     185     5.0\n",
       "3       2     174     3.0\n",
       "4       3     103     5.0"
      ]
     },
     "execution_count": 9,
     "metadata": {},
     "output_type": "execute_result"
    }
   ],
   "source": [
    "adventure_ratings_stacked.head(5)"
   ]
  },
  {
   "cell_type": "code",
   "execution_count": 14,
   "metadata": {
    "scrolled": true
   },
   "outputs": [
    {
     "name": "stdout",
     "output_type": "stream",
     "text": [
      "Collecting tensorflow==1.14.0\n",
      "  Using cached https://files.pythonhosted.org/packages/f4/28/96efba1a516cdacc2e2d6d081f699c001d414cc8ca3250e6d59ae657eb2b/tensorflow-1.14.0-cp37-cp37m-manylinux1_x86_64.whl\n",
      "Collecting tensorboard<1.15.0,>=1.14.0 (from tensorflow==1.14.0)\n",
      "  Using cached https://files.pythonhosted.org/packages/91/2d/2ed263449a078cd9c8a9ba50ebd50123adf1f8cfbea1492f9084169b89d9/tensorboard-1.14.0-py3-none-any.whl\n",
      "Requirement already satisfied: keras-applications>=1.0.6 in /home/fufufukakaka/.pyenv/versions/anaconda3-5.3.1/lib/python3.7/site-packages (from tensorflow==1.14.0) (1.0.8)\n",
      "Requirement already satisfied: gast>=0.2.0 in /home/fufufukakaka/.pyenv/versions/anaconda3-5.3.1/lib/python3.7/site-packages (from tensorflow==1.14.0) (0.2.2)\n",
      "Requirement already satisfied: keras-preprocessing>=1.0.5 in /home/fufufukakaka/.pyenv/versions/anaconda3-5.3.1/lib/python3.7/site-packages (from tensorflow==1.14.0) (1.1.0)\n",
      "Collecting tensorflow-estimator<1.15.0rc0,>=1.14.0rc0 (from tensorflow==1.14.0)\n",
      "  Using cached https://files.pythonhosted.org/packages/3c/d5/21860a5b11caf0678fbc8319341b0ae21a07156911132e0e71bffed0510d/tensorflow_estimator-1.14.0-py2.py3-none-any.whl\n",
      "Requirement already satisfied: protobuf>=3.6.1 in /home/fufufukakaka/.pyenv/versions/anaconda3-5.3.1/lib/python3.7/site-packages (from tensorflow==1.14.0) (3.10.0)\n",
      "Requirement already satisfied: wrapt>=1.11.1 in /home/fufufukakaka/.pyenv/versions/anaconda3-5.3.1/lib/python3.7/site-packages (from tensorflow==1.14.0) (1.11.2)\n",
      "Requirement already satisfied: google-pasta>=0.1.6 in /home/fufufukakaka/.pyenv/versions/anaconda3-5.3.1/lib/python3.7/site-packages (from tensorflow==1.14.0) (0.1.7)\n",
      "Requirement already satisfied: wheel>=0.26 in /home/fufufukakaka/.pyenv/versions/anaconda3-5.3.1/lib/python3.7/site-packages (from tensorflow==1.14.0) (0.31.1)\n",
      "Requirement already satisfied: termcolor>=1.1.0 in /home/fufufukakaka/.pyenv/versions/anaconda3-5.3.1/lib/python3.7/site-packages (from tensorflow==1.14.0) (1.1.0)\n",
      "Requirement already satisfied: absl-py>=0.7.0 in /home/fufufukakaka/.pyenv/versions/anaconda3-5.3.1/lib/python3.7/site-packages (from tensorflow==1.14.0) (0.8.0)\n",
      "Requirement already satisfied: astor>=0.6.0 in /home/fufufukakaka/.pyenv/versions/anaconda3-5.3.1/lib/python3.7/site-packages (from tensorflow==1.14.0) (0.8.0)\n",
      "Requirement already satisfied: grpcio>=1.8.6 in /home/fufufukakaka/.pyenv/versions/anaconda3-5.3.1/lib/python3.7/site-packages (from tensorflow==1.14.0) (1.24.1)\n",
      "Requirement already satisfied: six>=1.10.0 in /home/fufufukakaka/.pyenv/versions/anaconda3-5.3.1/lib/python3.7/site-packages (from tensorflow==1.14.0) (1.11.0)\n",
      "Requirement already satisfied: numpy<2.0,>=1.14.5 in /home/fufufukakaka/.pyenv/versions/anaconda3-5.3.1/lib/python3.7/site-packages (from tensorflow==1.14.0) (1.17.2)\n",
      "Collecting setuptools>=41.0.0 (from tensorboard<1.15.0,>=1.14.0->tensorflow==1.14.0)\n",
      "  Using cached https://files.pythonhosted.org/packages/b2/86/095d2f7829badc207c893dd4ac767e871f6cd547145df797ea26baea4e2e/setuptools-41.2.0-py2.py3-none-any.whl\n",
      "Requirement already satisfied: werkzeug>=0.11.15 in /home/fufufukakaka/.pyenv/versions/anaconda3-5.3.1/lib/python3.7/site-packages (from tensorboard<1.15.0,>=1.14.0->tensorflow==1.14.0) (0.14.1)\n",
      "Requirement already satisfied: markdown>=2.6.8 in /home/fufufukakaka/.pyenv/versions/anaconda3-5.3.1/lib/python3.7/site-packages (from tensorboard<1.15.0,>=1.14.0->tensorflow==1.14.0) (3.1.1)\n",
      "Requirement already satisfied: h5py in /home/fufufukakaka/.pyenv/versions/anaconda3-5.3.1/lib/python3.7/site-packages (from keras-applications>=1.0.6->tensorflow==1.14.0) (2.8.0)\n",
      "\u001b[31mERROR: twisted 18.7.0 requires PyHamcrest>=1.9.0, which is not installed.\u001b[0m\n",
      "Installing collected packages: setuptools, tensorboard, tensorflow-estimator, tensorflow\n",
      "  Found existing installation: setuptools 40.2.0\n",
      "    Uninstalling setuptools-40.2.0:\n",
      "      Successfully uninstalled setuptools-40.2.0\n",
      "  Found existing installation: tensorboard 2.0.0\n",
      "    Uninstalling tensorboard-2.0.0:\n",
      "      Successfully uninstalled tensorboard-2.0.0\n",
      "  Found existing installation: tensorflow-estimator 2.0.0\n",
      "    Uninstalling tensorflow-estimator-2.0.0:\n",
      "      Successfully uninstalled tensorflow-estimator-2.0.0\n",
      "  Found existing installation: tensorflow 2.0.0\n",
      "    Uninstalling tensorflow-2.0.0:\n",
      "      Successfully uninstalled tensorflow-2.0.0\n",
      "Successfully installed setuptools-41.2.0 tensorboard-1.14.0 tensorflow-1.14.0 tensorflow-estimator-1.14.0\n"
     ]
    }
   ],
   "source": [
    "!pip install tensorflow==1.14.0"
   ]
  },
  {
   "cell_type": "code",
   "execution_count": 10,
   "metadata": {
    "scrolled": true
   },
   "outputs": [
    {
     "name": "stderr",
     "output_type": "stream",
     "text": [
      "/home/fufufukakaka/.pyenv/versions/anaconda3-5.3.1/lib/python3.7/site-packages/tensorflow/python/framework/dtypes.py:516: FutureWarning: Passing (type, 1) or '1type' as a synonym of type is deprecated; in a future version of numpy, it will be understood as (type, (1,)) / '(1,)type'.\n",
      "  _np_qint8 = np.dtype([(\"qint8\", np.int8, 1)])\n",
      "/home/fufufukakaka/.pyenv/versions/anaconda3-5.3.1/lib/python3.7/site-packages/tensorflow/python/framework/dtypes.py:517: FutureWarning: Passing (type, 1) or '1type' as a synonym of type is deprecated; in a future version of numpy, it will be understood as (type, (1,)) / '(1,)type'.\n",
      "  _np_quint8 = np.dtype([(\"quint8\", np.uint8, 1)])\n",
      "/home/fufufukakaka/.pyenv/versions/anaconda3-5.3.1/lib/python3.7/site-packages/tensorflow/python/framework/dtypes.py:518: FutureWarning: Passing (type, 1) or '1type' as a synonym of type is deprecated; in a future version of numpy, it will be understood as (type, (1,)) / '(1,)type'.\n",
      "  _np_qint16 = np.dtype([(\"qint16\", np.int16, 1)])\n",
      "/home/fufufukakaka/.pyenv/versions/anaconda3-5.3.1/lib/python3.7/site-packages/tensorflow/python/framework/dtypes.py:519: FutureWarning: Passing (type, 1) or '1type' as a synonym of type is deprecated; in a future version of numpy, it will be understood as (type, (1,)) / '(1,)type'.\n",
      "  _np_quint16 = np.dtype([(\"quint16\", np.uint16, 1)])\n",
      "/home/fufufukakaka/.pyenv/versions/anaconda3-5.3.1/lib/python3.7/site-packages/tensorflow/python/framework/dtypes.py:520: FutureWarning: Passing (type, 1) or '1type' as a synonym of type is deprecated; in a future version of numpy, it will be understood as (type, (1,)) / '(1,)type'.\n",
      "  _np_qint32 = np.dtype([(\"qint32\", np.int32, 1)])\n",
      "/home/fufufukakaka/.pyenv/versions/anaconda3-5.3.1/lib/python3.7/site-packages/tensorflow/python/framework/dtypes.py:525: FutureWarning: Passing (type, 1) or '1type' as a synonym of type is deprecated; in a future version of numpy, it will be understood as (type, (1,)) / '(1,)type'.\n",
      "  np_resource = np.dtype([(\"resource\", np.ubyte, 1)])\n",
      "/home/fufufukakaka/.pyenv/versions/anaconda3-5.3.1/lib/python3.7/site-packages/tensorboard/compat/tensorflow_stub/dtypes.py:541: FutureWarning: Passing (type, 1) or '1type' as a synonym of type is deprecated; in a future version of numpy, it will be understood as (type, (1,)) / '(1,)type'.\n",
      "  _np_qint8 = np.dtype([(\"qint8\", np.int8, 1)])\n",
      "/home/fufufukakaka/.pyenv/versions/anaconda3-5.3.1/lib/python3.7/site-packages/tensorboard/compat/tensorflow_stub/dtypes.py:542: FutureWarning: Passing (type, 1) or '1type' as a synonym of type is deprecated; in a future version of numpy, it will be understood as (type, (1,)) / '(1,)type'.\n",
      "  _np_quint8 = np.dtype([(\"quint8\", np.uint8, 1)])\n",
      "/home/fufufukakaka/.pyenv/versions/anaconda3-5.3.1/lib/python3.7/site-packages/tensorboard/compat/tensorflow_stub/dtypes.py:543: FutureWarning: Passing (type, 1) or '1type' as a synonym of type is deprecated; in a future version of numpy, it will be understood as (type, (1,)) / '(1,)type'.\n",
      "  _np_qint16 = np.dtype([(\"qint16\", np.int16, 1)])\n",
      "/home/fufufukakaka/.pyenv/versions/anaconda3-5.3.1/lib/python3.7/site-packages/tensorboard/compat/tensorflow_stub/dtypes.py:544: FutureWarning: Passing (type, 1) or '1type' as a synonym of type is deprecated; in a future version of numpy, it will be understood as (type, (1,)) / '(1,)type'.\n",
      "  _np_quint16 = np.dtype([(\"quint16\", np.uint16, 1)])\n",
      "/home/fufufukakaka/.pyenv/versions/anaconda3-5.3.1/lib/python3.7/site-packages/tensorboard/compat/tensorflow_stub/dtypes.py:545: FutureWarning: Passing (type, 1) or '1type' as a synonym of type is deprecated; in a future version of numpy, it will be understood as (type, (1,)) / '(1,)type'.\n",
      "  _np_qint32 = np.dtype([(\"qint32\", np.int32, 1)])\n",
      "/home/fufufukakaka/.pyenv/versions/anaconda3-5.3.1/lib/python3.7/site-packages/tensorboard/compat/tensorflow_stub/dtypes.py:550: FutureWarning: Passing (type, 1) or '1type' as a synonym of type is deprecated; in a future version of numpy, it will be understood as (type, (1,)) / '(1,)type'.\n",
      "  np_resource = np.dtype([(\"resource\", np.ubyte, 1)])\n"
     ]
    },
    {
     "name": "stdout",
     "output_type": "stream",
     "text": [
      "WARNING:tensorflow:From /home/fufufukakaka/.pyenv/versions/anaconda3-5.3.1/lib/python3.7/site-packages/cmfrec/__init__.py:472: The name tf.placeholder is deprecated. Please use tf.compat.v1.placeholder instead.\n",
      "\n",
      "WARNING:tensorflow:From /home/fufufukakaka/.pyenv/versions/anaconda3-5.3.1/lib/python3.7/site-packages/cmfrec/__init__.py:487: The name tf.random_normal is deprecated. Please use tf.random.normal instead.\n",
      "\n",
      "WARNING:tensorflow:From /home/fufufukakaka/.pyenv/versions/anaconda3-5.3.1/lib/python3.7/site-packages/cmfrec/__init__.py:522: The name tf.losses.mean_squared_error is deprecated. Please use tf.compat.v1.losses.mean_squared_error instead.\n",
      "\n",
      "WARNING:tensorflow:From /home/fufufukakaka/.pyenv/versions/anaconda3-5.3.1/lib/python3.7/site-packages/tensorflow/python/ops/losses/losses_impl.py:121: add_dispatch_support.<locals>.wrapper (from tensorflow.python.ops.array_ops) is deprecated and will be removed in a future version.\n",
      "Instructions for updating:\n",
      "Use tf.where in 2.0, which has the same broadcast rule as np.where\n",
      "WARNING:tensorflow:\n",
      "The TensorFlow contrib module will not be included in TensorFlow 2.0.\n",
      "For more information, please see:\n",
      "  * https://github.com/tensorflow/community/blob/master/rfcs/20180907-contrib-sunset.md\n",
      "  * https://github.com/tensorflow/addons\n",
      "  * https://github.com/tensorflow/io (for I/O related ops)\n",
      "If you depend on functionality not listed there, please file an issue.\n",
      "\n",
      "WARNING:tensorflow:From /home/fufufukakaka/.pyenv/versions/anaconda3-5.3.1/lib/python3.7/site-packages/cmfrec/__init__.py:671: The name tf.global_variables_initializer is deprecated. Please use tf.compat.v1.global_variables_initializer instead.\n",
      "\n",
      "WARNING:tensorflow:From /home/fufufukakaka/.pyenv/versions/anaconda3-5.3.1/lib/python3.7/site-packages/cmfrec/__init__.py:672: The name tf.Session is deprecated. Please use tf.compat.v1.Session instead.\n",
      "\n",
      "WARNING:tensorflow:From /home/fufufukakaka/.pyenv/versions/anaconda3-5.3.1/lib/python3.7/site-packages/cmfrec/__init__.py:676: The name tf.logging.set_verbosity is deprecated. Please use tf.compat.v1.logging.set_verbosity instead.\n",
      "\n",
      "WARNING:tensorflow:From /home/fufufukakaka/.pyenv/versions/anaconda3-5.3.1/lib/python3.7/site-packages/cmfrec/__init__.py:676: The name tf.logging.INFO is deprecated. Please use tf.compat.v1.logging.INFO instead.\n",
      "\n",
      "INFO:tensorflow:Optimization terminated with:\n",
      "  Message: b'CONVERGENCE: NORM_OF_PROJECTED_GRADIENT_<=_PGTOL'\n",
      "  Objective function value: 1.035391\n",
      "  Number of iterations: 440\n",
      "  Number of functions evaluations: 457\n"
     ]
    },
    {
     "data": {
      "text/plain": [
       "<cmfrec.CMF at 0x7fec315651d0>"
      ]
     },
     "execution_count": 10,
     "metadata": {},
     "output_type": "execute_result"
    }
   ],
   "source": [
    "from cmfrec import CMF\n",
    "# tensorflow<2.0\n",
    "\n",
    "# fitting a model and making some recommendations\n",
    "recommender = CMF(k=20, k_main=3, k_user=2, k_item=1, reg_param=1e-4)\n",
    "recommender.fit(ratings=adventure_ratings_stacked, user_info=user_attributes, item_info=item_attributes,\n",
    "                cols_bin_user=None, cols_bin_item=None)"
   ]
  },
  {
   "cell_type": "code",
   "execution_count": 11,
   "metadata": {
    "scrolled": true
   },
   "outputs": [
    {
     "name": "stderr",
     "output_type": "stream",
     "text": [
      "100%|██████████| 138389/138389 [00:21<00:00, 6386.16it/s]\n"
     ]
    }
   ],
   "source": [
    "# 評価対象のユーザ\n",
    "test_adventure_pos_items_dict = {}\n",
    "for i in tqdm(range(X_test.shape[0])):\n",
    "    # trainでadventureにアクションしていないユーザに\n",
    "    rated_items = X_train[i, :].indices\n",
    "    if len([v for v in rated_items if 'Adventure' in itemid_genres_dict[v]]) == 0:\n",
    "        # X_testの中でstoreしているアイテムが0以上のユーザに\n",
    "        if X_test[i, :].nnz > 0:\n",
    "            test_items = []\n",
    "            selected_user_ratings = X_test[i, :]\n",
    "            value_indices = selected_user_ratings.indices\n",
    "            sorted_indices = np.argsort(-X_test[i, :].toarray())[0]\n",
    "            # valueがあるアイテムのジャンルがadventureの場合に\n",
    "            for v in sorted_indices[:len(value_indices)]:\n",
    "                if 'Adventure' in itemid_genres_dict[v]:\n",
    "                    test_items.append(v)\n",
    "            if len(test_items) > 0:\n",
    "                test_adventure_pos_items_dict[i] = test_items"
   ]
  },
  {
   "cell_type": "code",
   "execution_count": 12,
   "metadata": {},
   "outputs": [
    {
     "data": {
      "text/plain": [
       "(138389, 25)"
      ]
     },
     "execution_count": 12,
     "metadata": {},
     "output_type": "execute_result"
    }
   ],
   "source": [
    "recommender.A.shape"
   ]
  },
  {
   "cell_type": "code",
   "execution_count": 13,
   "metadata": {},
   "outputs": [
    {
     "name": "stderr",
     "output_type": "stream",
     "text": [
      "100%|██████████| 18523/18523 [00:28<00:00, 659.86it/s]\n"
     ]
    }
   ],
   "source": [
    "from lib.recommend_util import ndcg\n",
    "ndcgs = {\n",
    "    'ndcg5':  [],\n",
    "    'ndcg10':  [],\n",
    "    'ndcg20':  [],\n",
    "    'ndcg50':  [],\n",
    "    'ndcg100':  []\n",
    "}\n",
    "count = 0\n",
    "for userid, pos_items in tqdm(test_adventure_pos_items_dict.items()):\n",
    "    pos_items = np.array(pos_items)\n",
    "    try:\n",
    "        recommended_items = np.array(recommender.topN(user=userid, n=100))\n",
    "        ndcgs['ndcg5'].append(ndcg(recommended_items[:5], pos_items))\n",
    "        ndcgs['ndcg10'].append(ndcg(recommended_items[:10], pos_items))\n",
    "        ndcgs['ndcg20'].append(ndcg(recommended_items[:20], pos_items))\n",
    "        ndcgs['ndcg50'].append(ndcg(recommended_items[:50], pos_items))\n",
    "        ndcgs['ndcg100'].append(ndcg(recommended_items[:100], pos_items))\n",
    "    except:\n",
    "        count += 1\n",
    "        # 推薦できないユーザの場合は無条件で0を入れる\n",
    "        ndcgs['ndcg5'].append(0)\n",
    "        ndcgs['ndcg10'].append(0)\n",
    "        ndcgs['ndcg20'].append(0)\n",
    "        ndcgs['ndcg50'].append(0)\n",
    "        ndcgs['ndcg100'].append(0)"
   ]
  },
  {
   "cell_type": "code",
   "execution_count": 14,
   "metadata": {},
   "outputs": [
    {
     "name": "stdout",
     "output_type": "stream",
     "text": [
      "ndcg@5: 0.030809933243841594\n",
      "ndcg@10: 0.059450908627282424\n",
      "ndcg@20: 0.08336976280445271\n",
      "ndcg@50: 0.12356121838831909\n",
      "ndcg@100: 0.17953138419701553\n"
     ]
    }
   ],
   "source": [
    "print(\"ndcg@5: {}\".format(np.mean(ndcgs['ndcg5'])))\n",
    "print(\"ndcg@10: {}\".format(np.mean(ndcgs['ndcg10'])))\n",
    "print(\"ndcg@20: {}\".format(np.mean(ndcgs['ndcg20'])))\n",
    "print(\"ndcg@50: {}\".format(np.mean(ndcgs['ndcg50'])))\n",
    "print(\"ndcg@100: {}\".format(np.mean(ndcgs['ndcg100'])))"
   ]
  }
 ],
 "metadata": {
  "kernelspec": {
   "display_name": "Python 3",
   "language": "python",
   "name": "python3"
  },
  "language_info": {
   "codemirror_mode": {
    "name": "ipython",
    "version": 3
   },
   "file_extension": ".py",
   "mimetype": "text/x-python",
   "name": "python",
   "nbconvert_exporter": "python",
   "pygments_lexer": "ipython3",
   "version": "3.7.0"
  }
 },
 "nbformat": 4,
 "nbformat_minor": 4
}
