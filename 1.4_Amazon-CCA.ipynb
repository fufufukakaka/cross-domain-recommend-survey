{
 "cells": [
  {
   "cell_type": "code",
   "execution_count": 2,
   "metadata": {},
   "outputs": [],
   "source": [
    "from tqdm import tqdm\n",
    "from sklearn.decomposition import NMF\n",
    "import pandas as pd\n",
    "from scipy import sparse\n",
    "import numpy as np\n",
    "import implicit\n",
    "\n",
    "# read data\n",
    "ratings = pd.read_feather('data/amazon_review_ratings.feather')\n",
    "\n",
    "# indexing ids\n",
    "# userid\n",
    "userid_unique = pd.Series(ratings[\"userId\"].unique())\n",
    "index_userid_dict = userid_unique.to_dict()\n",
    "# inverse\n",
    "userid_index_dict = dict(map(reversed, index_userid_dict.items()))\n",
    "\n",
    "# itemid\n",
    "itemid_unique = pd.Series(ratings[\"itemId\"].unique())\n",
    "index_itemid_dict = itemid_unique.to_dict()\n",
    "# inverse\n",
    "itemid_index_dict = dict(map(reversed, index_itemid_dict.items()))\n",
    "\n",
    "ratings[\"userId_reindex\"] = ratings[\"userId\"].map(userid_index_dict)\n",
    "ratings[\"itemid_reindex\"] = ratings[\"itemId\"].map(itemid_index_dict)\n",
    "\n",
    "# reindexしたidを使って、アイテムとジャンルの対応が取れるdictを作る\n",
    "itemid_genres_dict = ratings[['itemid_reindex', 'category']].set_index('itemid_reindex')['category'].to_dict()"
   ]
  },
  {
   "cell_type": "code",
   "execution_count": 3,
   "metadata": {},
   "outputs": [],
   "source": [
    "import cloudpickle\n",
    "X_train = cloudpickle.load(open(\"output/Amazon-X_train.pkl\",\"rb\"))\n",
    "X_test = cloudpickle.load(open(\"output/Amazon-X_test.pkl\",\"rb\"))\n",
    "test_movies_and_TVs_pos_items_dict = cloudpickle.load(open('output/test_movies_and_TVs_pos_items_dict.pkl', 'rb'))"
   ]
  },
  {
   "cell_type": "code",
   "execution_count": 4,
   "metadata": {},
   "outputs": [],
   "source": [
    "# aggregateのtrainをbookとmoviesに分離する\n",
    "# bookの列\n",
    "book_columns = [v for v in range(X_train.shape[1]) if 'book' in itemid_genres_dict[v]]\n",
    "# moviesの列\n",
    "movies_columns = [v for v in range(X_train.shape[1]) if 'movies_and_TVs' in itemid_genres_dict[v]]\n",
    "\n",
    "# 選んだカラムに応じてとってくる\n",
    "book_train = X_train[:, book_columns]\n",
    "movies_train = X_train[:, movies_columns]\n",
    "\n",
    "# moviesのみ、アイテムidのconcatとの対応関係が必要なので辞書として持っておく\n",
    "movies_concat_itemid_dict = {}\n",
    "count = 0\n",
    "for v in range(X_train.shape[1]):\n",
    "    if 'movies_and_TVs' in itemid_genres_dict[v]:\n",
    "        movies_concat_itemid_dict[v] = count\n",
    "        count += 1"
   ]
  },
  {
   "cell_type": "code",
   "execution_count": 5,
   "metadata": {},
   "outputs": [],
   "source": [
    "# アイテムidのconcatとの対応関係が必要なので辞書として持っておく\n",
    "book_concat_itemid_dict = {}\n",
    "count = 0\n",
    "for v in range(X_train.shape[1]):\n",
    "    if 'book' in itemid_genres_dict[v]:\n",
    "        book_concat_itemid_dict[v] = count\n",
    "        count += 1\n",
    "# inverse\n",
    "inverse_book_concat_itemid_dict = dict(map(reversed, book_concat_itemid_dict.items()))\n",
    "\n",
    "movies_concat_itemid_dict = {}\n",
    "count = 0\n",
    "for v in range(X_train.shape[1]):\n",
    "    if 'movies_and_TVs' in itemid_genres_dict[v]:\n",
    "        movies_concat_itemid_dict[v] = count\n",
    "        count += 1\n",
    "# inverse\n",
    "inverse_movies_concat_itemid_dict = dict(map(reversed, movies_concat_itemid_dict.items()))"
   ]
  },
  {
   "cell_type": "code",
   "execution_count": 6,
   "metadata": {},
   "outputs": [],
   "source": [
    "# それぞれにアクションしていないユーザを削る\n",
    "# 全ユーザと、削ったあとでの対応関係を辞書として持っておく\n",
    "book_train_selected = book_train[book_train.getnnz(1)>0]\n",
    "movies_train_selected = movies_train[movies_train.getnnz(1)>0]\n",
    "\n",
    "book_train_action_users = {}\n",
    "book_users = book_train.getnnz(1)>0\n",
    "count = 0\n",
    "for i in range(book_train.shape[0]):\n",
    "    if book_users[i]:\n",
    "        book_train_action_users[i] = count\n",
    "        count += 1\n",
    "\n",
    "# inverse\n",
    "inverse_book_train_action_users = dict(map(reversed, book_train_action_users.items()))\n",
    "\n",
    "movies_train_action_users = {}\n",
    "movies_users = movies_train.getnnz(1)>0\n",
    "count = 0\n",
    "for i in range(movies_train.shape[0]):\n",
    "    if movies_users[i]:\n",
    "        movies_train_action_users[i] = count\n",
    "        count += 1\n",
    "\n",
    "# inverse\n",
    "inverse_movies_train_action_users = dict(map(reversed, movies_train_action_users.items()))"
   ]
  },
  {
   "cell_type": "code",
   "execution_count": 10,
   "metadata": {},
   "outputs": [],
   "source": [
    "# それぞれでALSする\n",
    "# 今回は mediateでやったときのものを使う\n",
    "book_ALS = cloudpickle.load(open('output/book_ALS.pkl', 'rb'))\n",
    "movies_ALS = cloudpickle.load(open(\"output/movies_ALS.pkl\",\"rb\"))\n",
    "\n",
    "book_ALS_user_vectors = book_ALS.user_factors\n",
    "movies_ALS_user_vectors = movies_ALS.user_factors"
   ]
  },
  {
   "cell_type": "code",
   "execution_count": 11,
   "metadata": {},
   "outputs": [
    {
     "name": "stderr",
     "output_type": "stream",
     "text": [
      "100%|██████████| 690240/690240 [00:00<00:00, 1101072.52it/s]\n"
     ]
    }
   ],
   "source": [
    "# bookとmoviesでoverlapしているユーザで、ベクトルの対応表を作る\n",
    "overlap_book_user_vectors = []\n",
    "overlap_movies_user_vectors = []\n",
    "count = 0\n",
    "for u in tqdm(range(X_train.shape[0])):\n",
    "    if u in book_train_action_users and u in movies_train_action_users:\n",
    "        overlap_book_user_vectors.append(book_ALS_user_vectors[book_train_action_users[u]].tolist())\n",
    "        overlap_movies_user_vectors.append(movies_ALS_user_vectors[movies_train_action_users[u]].tolist())"
   ]
  },
  {
   "cell_type": "code",
   "execution_count": 12,
   "metadata": {},
   "outputs": [
    {
     "data": {
      "text/plain": [
       "CCA(copy=True, max_iter=500, n_components=100, scale=True, tol=1e-06)"
      ]
     },
     "execution_count": 12,
     "metadata": {},
     "output_type": "execute_result"
    }
   ],
   "source": [
    "# CCAの学習をする\n",
    "from sklearn.cross_decomposition import CCA\n",
    "cca = CCA(n_components=100)\n",
    "cca.fit(overlap_book_user_vectors, overlap_movies_user_vectors)"
   ]
  },
  {
   "cell_type": "code",
   "execution_count": 13,
   "metadata": {},
   "outputs": [],
   "source": [
    "# moviesのitemのベクトル\n",
    "movies_item_vectors = movies_ALS.item_factors"
   ]
  },
  {
   "cell_type": "code",
   "execution_count": 17,
   "metadata": {},
   "outputs": [
    {
     "name": "stderr",
     "output_type": "stream",
     "text": [
      "100%|██████████| 10250/10250 [06:34<00:00, 26.00it/s]\n"
     ]
    }
   ],
   "source": [
    "from lib.recommend_util import ndcg\n",
    "ndcgs = {\n",
    "    'ndcg5':  [],\n",
    "    'ndcg10':  [],\n",
    "    'ndcg20':  [],\n",
    "    'ndcg50':  [],\n",
    "    'ndcg100':  []\n",
    "}\n",
    "count = 0\n",
    "for userid, pos_items in tqdm(test_movies_and_TVs_pos_items_dict.items()):\n",
    "   # pos_itemsをadventure_matrixの次元に変換する\n",
    "    pos_items = np.array([movies_concat_itemid_dict[v] for v in pos_items])\n",
    "    # useridに対応するユーザベクトル(action)を得る\n",
    "    try:\n",
    "        book_userid = book_train_action_users[userid]\n",
    "        book_user_vector = book_ALS_user_vectors[book_userid, :]\n",
    "        # CCAを使ってmoviesの次元に変換する\n",
    "        movies_user_vector_action_CCA = book_user_vector @ cca.x_weights_ @ cca.y_weights_.T\n",
    "        # adventureのitemのベクトルと掛け合わせる\n",
    "        movies_predict = np.dot(movies_user_vector_action_CCA, movies_item_vectors.T)\n",
    "        # sum_ratingsをargsort\n",
    "        sorted_indices = np.array([v for v in np.argsort(-movies_predict)])\n",
    "        ndcgs['ndcg5'].append(ndcg(sorted_indices[:5], pos_items))\n",
    "        ndcgs['ndcg10'].append(ndcg(sorted_indices[:10], pos_items))\n",
    "        ndcgs['ndcg20'].append(ndcg(sorted_indices[:20], pos_items))\n",
    "        ndcgs['ndcg50'].append(ndcg(sorted_indices[:50], pos_items))\n",
    "        ndcgs['ndcg100'].append(ndcg(sorted_indices[:100], pos_items))\n",
    "    except:\n",
    "        count += 1\n",
    "        # 推薦できないユーザの場合は無条件で0を入れる\n",
    "        ndcgs['ndcg5'].append(0)\n",
    "        ndcgs['ndcg10'].append(0)\n",
    "        ndcgs['ndcg20'].append(0)\n",
    "        ndcgs['ndcg50'].append(0)\n",
    "        ndcgs['ndcg100'].append(0)"
   ]
  },
  {
   "cell_type": "code",
   "execution_count": 18,
   "metadata": {},
   "outputs": [
    {
     "name": "stdout",
     "output_type": "stream",
     "text": [
      "ndcg@5: 0.009355057496668363\n",
      "ndcg@10: 0.012339020891830598\n",
      "ndcg@20: 0.016187134074342507\n",
      "ndcg@50: 0.023166553362954135\n",
      "ndcg@100: 0.029808592695038674\n"
     ]
    }
   ],
   "source": [
    "print(\"ndcg@5: {}\".format(np.mean(ndcgs['ndcg5'])))\n",
    "print(\"ndcg@10: {}\".format(np.mean(ndcgs['ndcg10'])))\n",
    "print(\"ndcg@20: {}\".format(np.mean(ndcgs['ndcg20'])))\n",
    "print(\"ndcg@50: {}\".format(np.mean(ndcgs['ndcg50'])))\n",
    "print(\"ndcg@100: {}\".format(np.mean(ndcgs['ndcg100'])))"
   ]
  }
 ],
 "metadata": {
  "kernelspec": {
   "display_name": "Python 3",
   "language": "python",
   "name": "python3"
  },
  "language_info": {
   "codemirror_mode": {
    "name": "ipython",
    "version": 3
   },
   "file_extension": ".py",
   "mimetype": "text/x-python",
   "name": "python",
   "nbconvert_exporter": "python",
   "pygments_lexer": "ipython3",
   "version": "3.5.3"
  }
 },
 "nbformat": 4,
 "nbformat_minor": 4
}
